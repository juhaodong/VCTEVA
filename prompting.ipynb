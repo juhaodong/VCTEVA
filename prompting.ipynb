{
 "cells": [
  {
   "cell_type": "code",
   "execution_count": 3,
   "metadata": {},
   "outputs": [
    {
     "name": "stdout",
     "output_type": "stream",
     "text": [
      "测试 llama_completion API:\n",
      "llama 返回结果: 你好！ 🤖\n",
      "\n",
      "VCT (Valorant Champions Tour) is the official esports tournament series for Valorant, a tactical first-person shooter game developed by Riot Games. The strongest team in VCT International can be subjective and vary depending on several factors such as the meta, team compositions, and player skill levels.\n",
      "\n",
      "However, based on recent tournament results and team performances, here are some of the strongest teams in VCT International:\n",
      "\n",
      "1. **LOUD** (Brazil): LOUD has been one of the most consistent teams in VCT International, with a strong team composition and excellent game sense. They have won several tournaments, including the VCT 2021 Stage 2 Masters and the VCT 2021 Champions.\n",
      "2. **Furia** (Brazil): Furia is another strong Brazilian team that has consistently performed well in VCT International tournaments. They have won several tournaments, including the VCT 2021 Stage 1 Masters and the VCT 2021 Stage 3 Challengers.\n",
      "3. **Cloud9** (USA): Cloud9 is a well-known esports organization with a strong Valorant team. They have performed well in VCT International tournaments, including the VCT 2021 Stage 2 Challengers and the VCT 2021 Stage 3 Challengers.\n",
      "4. **X10 CRIT** (China): X10 CRIT is a Chinese team that has been making waves in VCT International tournaments. They have won several tournaments, including the VCT 2021 Stage 1 Challengers and the VCT 2021 Stage 2 Challengers.\n",
      "5. **Fnatic** (Europe): Fnatic is a well-known esports organization with a strong Valorant team. They have performed well in VCT International tournaments, including the VCT 2021 Stage 1 Challengers and the VCT 2021 Stage 2 Challengers.\n",
      "\n",
      "Please note that team rosters and performances can change over time, so this information may not be up-to-date. Additionally, there are many other strong teams in VCT International, and the \"strongest\" team can be subjective and dependent on various factors.\n",
      "\n"
     ]
    }
   ],
   "source": [
    "from llm.llama3 import llama_completion\n",
    "\n",
    "# 测试 llama_completion API\n",
    "test_messages = [\n",
    "    {\n",
    "        \"role\": \"user\", \n",
    "        \"content\": \"你好,请问VCT国际赛最强的阵容是什么?\"\n",
    "    }\n",
    "]\n",
    "\n",
    "print(\"测试 llama_completion API:\")\n",
    "response = llama_completion(test_messages)\n",
    "print(f\"llama 返回结果: {response}\\n\")\n"
   ]
  },
  {
   "cell_type": "code",
   "execution_count": 2,
   "metadata": {},
   "outputs": [
    {
     "data": {
      "text/plain": [
       "str"
      ]
     },
     "execution_count": 2,
     "metadata": {},
     "output_type": "execute_result"
    }
   ],
   "source": [
    "type(response)"
   ]
  }
 ],
 "metadata": {
  "kernelspec": {
   "display_name": "eva",
   "language": "python",
   "name": "python3"
  },
  "language_info": {
   "codemirror_mode": {
    "name": "ipython",
    "version": 3
   },
   "file_extension": ".py",
   "mimetype": "text/x-python",
   "name": "python",
   "nbconvert_exporter": "python",
   "pygments_lexer": "ipython3",
   "version": "3.10.15"
  }
 },
 "nbformat": 4,
 "nbformat_minor": 2
}
